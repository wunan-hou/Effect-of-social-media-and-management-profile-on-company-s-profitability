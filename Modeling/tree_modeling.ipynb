{
 "cells": [
  {
   "cell_type": "code",
   "execution_count": null,
   "metadata": {},
   "outputs": [],
   "source": [
    "# data processing\n",
    "import pandas as pd\n",
    "import numpy as np\n",
    "# modeling\n",
    "from sklearn.model_selection import train_test_split\n",
    "from imblearn.over_sampling import SMOTE\n",
    "from sklearn import linear_model\n",
    "from sklearn import tree\n",
    "# evaluation\n",
    "from sklearn.metrics import confusion_matrix\n",
    "import sklearn.metrics as metrics\n",
    "from sklearn.metrics import roc_curve,auc\n",
    "from scipy.stats import ks_2samp\n",
    "from sklearn.tree.export import export_text\n",
    "import math\n",
    "# visualization\n",
    "import matplotlib.pyplot as plt\n",
    "import pydotplus \n",
    "from IPython.display import Image\n",
    "# ignoring the warning message\n",
    "import warnings\n",
    "warnings.filterwarnings(\"ignore\")"
   ]
  },
  {
   "cell_type": "markdown",
   "metadata": {},
   "source": [
    "#### Original Data"
   ]
  },
  {
   "cell_type": "code",
   "execution_count": null,
   "metadata": {},
   "outputs": [],
   "source": [
    "df = pd.read_excel('original_dataset.xlsx')\n",
    "df.info()"
   ]
  },
  {
   "cell_type": "markdown",
   "metadata": {},
   "source": [
    "#### Final Modeling Data"
   ]
  },
  {
   "cell_type": "code",
   "execution_count": null,
   "metadata": {},
   "outputs": [],
   "source": [
    "# gather all variables data and response data\n",
    "df_processed = pd.read_excel('tree_data_0410_new.xlsx')\n",
    "# because some companies don't have sectors or have wrong setors, we just simply drop these companies\n",
    "df_drop = df_processed.dropna()\n",
    "# finally we have 5211 obersevations, each obervation represents one public company\n",
    "df_drop.info()"
   ]
  },
  {
   "cell_type": "markdown",
   "metadata": {},
   "source": [
    "#### Logistic Regression"
   ]
  },
  {
   "cell_type": "code",
   "execution_count": null,
   "metadata": {},
   "outputs": [],
   "source": [
    "# get the logistic regression data\n",
    "lr = df_drop[['page_size_bytes', 'latest_edit_year_-_2018', 'avg_day_between_edits', \n",
    "              'avg_edits_per_year', 'num_edits_2018', 'num_edits_2017', 'edits_change_2017_2018', \n",
    "              'pageviews_60d', 'num_sections', 'num_redir_links', 'num_references', \n",
    "              'margin_change', 'margin_change_90', 'margin_change_80']]\n",
    "# define logistic regression function\n",
    "def logistic(lr, y):\n",
    "    results = dict()\n",
    "    for i in cols:\n",
    "        data = lr[[i, y]]\n",
    "        results[i] = dict()\n",
    "        # sample splitting\n",
    "        train, test = train_test_split(data, test_size = 0.3, random_state = 240)\n",
    "        x_train = train.iloc[0:, 0:1]\n",
    "        y_train = train[[y]]\n",
    "        x_test = test.iloc[0:, 0:1]\n",
    "        y_test = test[[y]]\n",
    "        # fit and predict\n",
    "        model = linear_model.LogisticRegression(class_weight=\"balanced\")\n",
    "        model.fit(x_train, y_train)\n",
    "        predictions = model.predict(x_test)\n",
    "        actuals = np.array(y_test)\n",
    "        # accuracy\n",
    "        acc = model.score(x_test,actuals)\n",
    "        results[i]['accuracy'] = acc\n",
    "        # gini\n",
    "        fpr, tpr, thresholds = roc_curve(actuals, predictions)\n",
    "        roc_auc = auc(fpr, tpr)\n",
    "        gini = (2 * roc_auc) - 1\n",
    "        if gini < 0:\n",
    "            predictions = 1 - predictions\n",
    "            fpr, tpr, thresholds = roc_curve(actuals, predictions)\n",
    "            roc_auc = auc(fpr, tpr)\n",
    "            gini = (2 * roc_auc) - 1\n",
    "        results[i]['gini'] = gini\n",
    "        # ks statistic\n",
    "        ks = ks_2samp(actuals.ravel(), predictions)\n",
    "        results[i]['ks_stats'] = ks[0]\n",
    "    return results\n",
    "# get different lr results for different binary thresholds of margin change\n",
    "p95 = logistic(lr, 'margin_change')\n",
    "p90 = logistic(lr, 'margin_change_90')\n",
    "p80 = logistic(lr, 'margin_change_80')\n",
    "# output the results\n",
    "# pd.DataFrame(p95).transpose().to_excel('lr_p95.xlsx')\n",
    "# pd.DataFrame(p90).transpose().to_excel('lr_p90.xlsx')\n",
    "# pd.DataFrame(p80).transpose().to_excel('lr_p80.xlsx')"
   ]
  },
  {
   "cell_type": "markdown",
   "metadata": {},
   "source": [
    "#### Decision Tree"
   ]
  },
  {
   "cell_type": "code",
   "execution_count": null,
   "metadata": {},
   "outputs": [],
   "source": [
    "# get the data for decision tree\n",
    "tree_data = pd.read_excel('dataset_0412_1.xlsx', index_col=\"Unnamed: 0\")\n",
    "# set the varibles for decision tree\n",
    "tree_model = tree_data[['margin_change_90_new', 'Sector',\n",
    "       'Shares_Held_by_All_Insider', 'Shares_Held_by_Institutions',\n",
    "       'Float_Held_by_Institutions', 'Number_of_Institutions_Holding_Shares',\n",
    "       'number_of_full-time_employee', 'male_rate', 'average_age',\n",
    "       'age_below_40', 'tech_score', 'page_size_bytes',\n",
    "       'latest_edit_year_-_2018', 'avg_day_between_edits',\n",
    "       'avg_edits_per_year', 'num_edits_2018', 'num_edits_2017',\n",
    "       'edits_change_2017_2018', 'pageviews_60d', 'num_sections',\n",
    "       'num_redir_links', 'num_references', '2017-create_date', 'followers',\n",
    "       'friends', 'tweets', 'verified', 'avg_retweet', 'avg_favourite',\n",
    "       'Facebook', 'Twitter', 'Linkedin', 'Youtube', 'Instagram', 'Wikipedia',\n",
    "       'media_pct', 'subscriberCount', 'videoCount', 'liked', 'disliked',\n",
    "       'views', 'comment', 'video_2017', 'video_2018', 'first']]\n",
    "# drop companies with wrong sectors all no sectors\n",
    "tree_drop = tree_model.dropna()\n",
    "tree_model = tree_model.dropna()\n",
    "# set sector to dummy variables\n",
    "tree_model = pd.get_dummies(tree_model, columns=['Sector'])\n",
    "# split the dataset into train and test\n",
    "train, test = train_test_split(tree_model, test_size = 0.3, random_state=240)\n",
    "x_train = train.iloc[0:, 1:]\n",
    "y_train = train[['margin_change_90_new']]\n",
    "x_test = test.iloc[0:, 1:]\n",
    "y_test = test[['margin_change_90_new']]\n",
    "# an attempt to handle the imbalanced data\n",
    "# oversample = SMOTE()\n",
    "# x_train, y_train = oversample.fit_resample(x_train, y_train)\n",
    "# establish a decision tree\n",
    "model = tree.DecisionTreeClassifier(criterion=\"gini\", max_leaf_nodes=10, min_samples_leaf=100, random_state=123, class_weight='balanced')\n",
    "model.fit(x_train,y_train)\n",
    "predictions = model.predict(x_test)\n",
    "actuals = np.array(y_test)"
   ]
  },
  {
   "cell_type": "code",
   "execution_count": null,
   "metadata": {},
   "outputs": [],
   "source": [
    "# show the tree image\n",
    "feature_names = [key for key in tree_model if not key == 'margin_change_90_new']\n",
    "dot_data = tree.export_graphviz(model, out_file=None, feature_names=feature_names, class_names=['0', '1']) \n",
    "graph = pydotplus.graphviz.graph_from_dot_data(dot_data)\n",
    "Image(graph.create_png())\n",
    "\n",
    "# evaluate the tree performance\n",
    "fpr, tpr, thresholds = roc_curve(actuals, predictions)\n",
    "roc_auc = auc(fpr, tpr)\n",
    "gini = (2 * roc_auc) - 1\n",
    "if gini < 0:\n",
    "    predictions = 1 - predictions\n",
    "    fpr, tpr, thresholds = roc_curve(actuals, predictions)\n",
    "    roc_auc = auc(fpr, tpr)\n",
    "    gini = (2 * roc_auc) - 1\n",
    "# ks statistic\n",
    "ks = ks_2samp(actuals.ravel(), predictions)\n",
    "print(gini)\n",
    "print(ks[0])\n",
    "print(ks[1])\n",
    "\n",
    "# show how many nodes and leaves the tree have\n",
    "print(model.tree_.node_count)\n",
    "print(model.tree_.n_leaves)\n",
    "# show the split rules of each leaf node\n",
    "tree_rules = export_text(model, feature_names=list(x_train))\n",
    "print(tree_rules)\n",
    "\n",
    "# show the feature importance\n",
    "importances = pd.DataFrame({'feature':x_train.columns,'importance':np.round(model.feature_importances_,3)})\n",
    "importances = importances.sort_values('importance',ascending=False)\n",
    "importances"
   ]
  },
  {
   "cell_type": "code",
   "execution_count": null,
   "metadata": {},
   "outputs": [],
   "source": [
    "# calculate the event rate of each leaf node\n",
    "train['leaf'] = model.apply(x_train)\n",
    "grouped = train.groupby(['leaf', 'margin_change_90_new']).size().unstack()\n",
    "grouped = grouped.replace(np.nan, 0)\n",
    "grouped['sum'] = grouped[0.0] + grouped[1.0]\n",
    "grouped['event_rate'] = grouped[1.0]/grouped['sum']\n",
    "grouped\n",
    "# predict the leaf node each company belongs to for overall dataset\n",
    "tree_model['leaf'] = model.apply(tree_model.iloc[0:, 1:])\n",
    "# join the leaf column with original dataset for detailed analysis\n",
    "tree_90_data = tree_drop[['Sector']].merge(tree_model, how='left', left_index=True, right_index=True)\n",
    "# tree_90_data.to_excel(\"tree_90.xlsx\")"
   ]
  },
  {
   "cell_type": "markdown",
   "metadata": {},
   "source": [
    "#### Analysis and Visulization"
   ]
  },
  {
   "cell_type": "code",
   "execution_count": null,
   "metadata": {},
   "outputs": [],
   "source": [
    "# draw the distribution of original numerical margin change\n",
    "df[['margin_change']].plot.hist(grid=True, bins=500, rwidth=0.9, legend=None)\n",
    "plt.xlim([-50, 50])\n",
    "plt.title('Distribution of Margin Change', fontsize=12)\n",
    "plt.xlabel('Margin Change', fontsize=12)\n",
    "plt.ylabel('Number of Companies', fontsize=12)\n",
    "plt.show()"
   ]
  },
  {
   "cell_type": "code",
   "execution_count": null,
   "metadata": {},
   "outputs": [],
   "source": [
    "# draw the distribution of binary margin change\n",
    "df_binary = df[(df['margin_change_90'] == 0) | (df['margin_change_90'] == 1)]\n",
    "df_binary['margin_change_90'].value_counts().plot(kind='bar')\n",
    "plt.title('Distribution of Margin Change', fontsize=12)\n",
    "plt.xlabel('Margin Change', fontsize=12)\n",
    "plt.ylabel('Number of Companies', fontsize=12)\n",
    "plt.show()"
   ]
  },
  {
   "cell_type": "code",
   "execution_count": null,
   "metadata": {},
   "outputs": [],
   "source": []
  },
  {
   "cell_type": "code",
   "execution_count": null,
   "metadata": {},
   "outputs": [],
   "source": []
  }
 ],
 "metadata": {
  "kernelspec": {
   "display_name": "Python 3",
   "language": "python",
   "name": "python3"
  },
  "language_info": {
   "codemirror_mode": {
    "name": "ipython",
    "version": 3
   },
   "file_extension": ".py",
   "mimetype": "text/x-python",
   "name": "python",
   "nbconvert_exporter": "python",
   "pygments_lexer": "ipython3",
   "version": "3.7.3"
  }
 },
 "nbformat": 4,
 "nbformat_minor": 4
}
