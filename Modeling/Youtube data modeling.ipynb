{
 "cells": [
  {
   "cell_type": "markdown",
   "metadata": {},
   "source": [
    "# Logistic Regression"
   ]
  },
  {
   "cell_type": "code",
   "execution_count": null,
   "metadata": {},
   "outputs": [],
   "source": [
    "# read data\n",
    "import pandas as pd\n",
    "import numpy as np \n",
    "from pandas import read_excel\n",
    "df_new = pd.read_excel('woe by sector.xlsx')"
   ]
  },
  {
   "cell_type": "code",
   "execution_count": null,
   "metadata": {},
   "outputs": [],
   "source": [
    "import sklearn\n",
    "from sklearn.model_selection import train_test_split\n",
    "from sklearn import linear_model\n",
    "from sklearn.linear_model import LogisticRegression\n",
    "from sklearn import metrics\n",
    "import numpy as np\n",
    "from sklearn.metrics import roc_curve, auc\n",
    "from scipy.stats import ks_2samp\n",
    "\n",
    "results = dict()\n",
    "variables = ['subscriberCount', 'videoCount', 'liked','disliked', 'views', 'comment', 'video_2017', 'video_2018', 'first',]\n",
    "for i in variables:\n",
    "    data = df_new[[i, 'margin_change_95']]\n",
    "    results[i] = dict()\n",
    "    # sample split\n",
    "    random.seed(500)\n",
    "    train, test = train_test_split(data, test_size = 0.3)\n",
    "    x_train = np.array(train.iloc[0:, 0:1])\n",
    "    y_train = np.array(train[['margin_change_95']])\n",
    "    x_test = np.array(test.iloc[0:, 0:1])\n",
    "    y_test = test['margin_change_95']\n",
    "    # fit and predict\n",
    "    model = linear_model.LogisticRegression(class_weight=\"balanced\")\n",
    "    model.fit(x_train, y_train)\n",
    "    predictions = model.predict(x_test)\n",
    "    actuals = np.array(y_test)\n",
    "    # accuracy\n",
    "    acc = model.score(x_test,actuals)\n",
    "    results[i]['accuracy'] = acc\n",
    "    # gini\n",
    "    fpr, tpr, thresholds = roc_curve(actuals, predictions)\n",
    "    roc_auc = auc(fpr, tpr)\n",
    "    gini = (2 * roc_auc) - 1\n",
    "    if gini < 0:\n",
    "        predictions = 1 - predictions\n",
    "        fpr, tpr, thresholds = roc_curve(actuals, predictions)\n",
    "        roc_auc = auc(fpr, tpr)\n",
    "        gini = (2 * roc_auc) - 1\n",
    "        results[i]['gini'] = gini\n",
    "    else:\n",
    "        results[i]['gini'] = gini\n",
    "    #k-s statisctics \n",
    "    ks_result = ks_2samp(actuals, predictions)\n",
    "    results[i]['ks_stats'] = ks_result[0]\n",
    "    results[i]['ks_pvalue'] = ks_result[1]\n"
   ]
  },
  {
   "cell_type": "markdown",
   "metadata": {},
   "source": [
    "# Decision Tree"
   ]
  },
  {
   "cell_type": "code",
   "execution_count": null,
   "metadata": {},
   "outputs": [],
   "source": [
    "# indepentent varaibles\n",
    "cols = ['Shares_Held_by_All_Insider', 'Shares_Held_by_Institutions',\n",
    "       'Float_Held_by_Institutions', 'Number_of_Institutions_Holding_Shares',\n",
    "       'number_of_full-time_employee', 'male_rate', 'average_age',\n",
    "       'age_below_40', 'tech_score', 'page_size_bytes',\n",
    "       'latest_edit_year_-_2018', 'avg_day_between_edits',\n",
    "       'avg_edits_per_year', 'num_edits_2018', 'num_edits_2017',\n",
    "       'edits_change_2017_2018', 'pageviews_60d', 'num_sections',\n",
    "       'num_redir_links', 'num_references', '2017-create_date', 'followers',\n",
    "       'friends', 'tweets', 'verified', 'avg_retweet', 'avg_favourite',\n",
    "       'Facebook', 'Twitter', 'Linkedin', 'Youtube', 'Instagram', 'Wikipedia',\n",
    "       'media_pct', 'subscriberCount', 'videoCount', 'liked', 'disliked',\n",
    "       'views', 'comment', 'video_2017', 'video_2018', 'first', 'Sector_Basic Materials',\n",
    "       'Sector_Communication Services', 'Sector_Consumer Cyclical',\n",
    "       'Sector_Consumer Defensive', 'Sector_Energy',\n",
    "       'Sector_Financial Services', 'Sector_Healthcare', 'Sector_Industrials',\n",
    "       'Sector_Real Estate', 'Sector_Technology']"
   ]
  },
  {
   "cell_type": "code",
   "execution_count": null,
   "metadata": {},
   "outputs": [],
   "source": [
    "# split data\n",
    "import random\n",
    "import numpy as np\n",
    "from sklearn.model_selection import train_test_split\n",
    "train, test = train_test_split(df_new, test_size = 0.3,random_state=101)\n",
    "x_train = train[cols]\n",
    "y_train = train[['margin_change_90']]\n",
    "x_test = test[cols]\n",
    "y_test = test[['margin_change_90']]"
   ]
  },
  {
   "cell_type": "code",
   "execution_count": null,
   "metadata": {},
   "outputs": [],
   "source": [
    "from sklearn import tree\n",
    "from sklearn.tree import DecisionTreeClassifier\n",
    "import pydotplus\n",
    "import graphviz\n",
    "from IPython.display import Image\n",
    "model = tree.DecisionTreeClassifier(min_samples_leaf=100, random_state=123,class_weight = 'balanced', max_leaf_nodes = 10)\n",
    "model = model.fit(x_train,y_train)\n",
    "predictions = model.predict(x_test)\n",
    "actuals = np.array(y_test)\n",
    "feature_names = cols\n",
    "dot_data = tree.export_graphviz(model, out_file=None, feature_names=cols,class_names=['0','1']) \n",
    "graph = pydotplus.graphviz.graph_from_dot_data(dot_data)\n",
    "# graph.write_png('updated y balanced decision tree p50 10 nodes.png')\n",
    "Image(graph.create_png())"
   ]
  },
  {
   "cell_type": "code",
   "execution_count": null,
   "metadata": {},
   "outputs": [],
   "source": [
    "from sklearn.metrics import roc_curve, auc\n",
    "from scipy.stats import ks_2samp\n",
    "# gini\n",
    "fpr, tpr, thresholds = roc_curve(actuals, predictions)\n",
    "roc_auc = auc(fpr, tpr)\n",
    "gini = (2 * roc_auc) - 1\n",
    "print('gini: ', gini)\n",
    "# #k-s statisctics \n",
    "act = np.ravel(actuals)\n",
    "ks_result = ks_2samp(act, predictions)\n",
    "print('ks_stats',ks_result[0])\n",
    "print('ks_pvalue', ks_result[1])\n",
    "# logical rules\n",
    "from sklearn.tree import export_text\n",
    "tree_rules = export_text(model, feature_names=list(x_train))\n",
    "print(tree_rules)\n",
    "# feature importance\n",
    "importances = pd.DataFrame({'feature':x_train.columns,'importance':np.round(model.feature_importances_,3)})\n",
    "importances = importances.sort_values('importance',ascending=False)"
   ]
  },
  {
   "cell_type": "code",
   "execution_count": null,
   "metadata": {},
   "outputs": [],
   "source": [
    "# event rate in each node\n",
    "leaf_list  = list(model.apply(x_train,check_input=True)) # leaf list \n",
    "final_node = list(np.unique(model.apply(x_train,check_input=True))) # leaf node\n",
    "actual_value = list(train['margin_change_90'])\n",
    "event_rate_leaf = pd.DataFrame({'leaf':leaf_list, 'actual_value':actual_value})\n",
    "group_data = event_rate_leaf.groupby(['leaf','actual_value']).size().unstack()\n",
    "group_data = group_data.replace(np.nan, 0)\n",
    "group_data['sample number'] = group_data[0] + group_data[1]\n",
    "group_data['event rate'] = group_data[1]/group_data['sample number']"
   ]
  }
 ],
 "metadata": {
  "kernelspec": {
   "display_name": "Python 3",
   "language": "python",
   "name": "python3"
  },
  "language_info": {
   "codemirror_mode": {
    "name": "ipython",
    "version": 3
   },
   "file_extension": ".py",
   "mimetype": "text/x-python",
   "name": "python",
   "nbconvert_exporter": "python",
   "pygments_lexer": "ipython3",
   "version": "3.7.6"
  }
 },
 "nbformat": 4,
 "nbformat_minor": 4
}
