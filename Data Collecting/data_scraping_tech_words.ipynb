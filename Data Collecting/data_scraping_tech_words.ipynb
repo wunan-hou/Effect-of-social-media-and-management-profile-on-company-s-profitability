{
 "cells": [
  {
   "cell_type": "markdown",
   "metadata": {},
   "source": [
    "#### Technology Words Package Scraping"
   ]
  },
  {
   "cell_type": "markdown",
   "metadata": {},
   "source": [
    "To measure the manager team positions' digital level, we need to construct a technology words package as reference."
   ]
  },
  {
   "cell_type": "code",
   "execution_count": null,
   "metadata": {},
   "outputs": [],
   "source": [
    "import requests\n",
    "import bs4\n",
    "from selenium import webdriver"
   ]
  },
  {
   "cell_type": "code",
   "execution_count": null,
   "metadata": {},
   "outputs": [],
   "source": [
    "# set the driver\n",
    "driver = webdriver.Chrome()\n",
    "# scrap the words\n",
    "driver.get(\"https://relatedwords.org/relatedto/digital\")\n",
    "words = driver.find_element_by_xpath('//div[@class=\"words\"]').text.strip()\n",
    "words_list = words.lower().split('\\n')\n",
    "# wirte them into a txt file\n",
    "with open('tech_words.txt', 'w') as ori_file:\n",
    "    for word in words_list:\n",
    "        output_file.write('%s\\n' % word)"
   ]
  },
  {
   "cell_type": "code",
   "execution_count": null,
   "metadata": {},
   "outputs": [],
   "source": []
  }
 ],
 "metadata": {
  "kernelspec": {
   "display_name": "Python 3",
   "language": "python",
   "name": "python3"
  },
  "language_info": {
   "codemirror_mode": {
    "name": "ipython",
    "version": 3
   },
   "file_extension": ".py",
   "mimetype": "text/x-python",
   "name": "python",
   "nbconvert_exporter": "python",
   "pygments_lexer": "ipython3",
   "version": "3.7.3"
  }
 },
 "nbformat": 4,
 "nbformat_minor": 2
}
