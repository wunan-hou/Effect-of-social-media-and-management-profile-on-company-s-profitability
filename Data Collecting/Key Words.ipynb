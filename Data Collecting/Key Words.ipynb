{
 "cells": [
  {
   "cell_type": "code",
   "execution_count": 1,
   "metadata": {},
   "outputs": [
    {
     "name": "stdout",
     "output_type": "stream",
     "text": [
      "<class 'pandas.core.frame.DataFrame'>\n",
      "RangeIndex: 5229 entries, 0 to 5228\n",
      "Data columns (total 7 columns):\n",
      "Unnamed: 0     5229 non-null int64\n",
      "ticker         5229 non-null object\n",
      "name           5229 non-null object\n",
      "website        5228 non-null object\n",
      "sector         5221 non-null object\n",
      "industry       5221 non-null object\n",
      "description    5229 non-null object\n",
      "dtypes: int64(1), object(6)\n",
      "memory usage: 286.0+ KB\n"
     ]
    }
   ],
   "source": [
    "import pandas as pd\n",
    "df = pd.read_csv(\"listing.csv\")\n",
    "df.info()"
   ]
  },
  {
   "cell_type": "code",
   "execution_count": 2,
   "metadata": {},
   "outputs": [],
   "source": [
    "#only grab noun as key words\n",
    "from nltk.corpus import wordnet as wn\n",
    "nouns = {x.name().split('.', 1)[0] for x in wn.all_synsets('n')}\n",
    "\n",
    "def get_keywords(text,company):\n",
    "    from gensim import corpora\n",
    "    from gensim.models.ldamodel import LdaModel\n",
    "    from gensim.parsing.preprocessing import STOPWORDS\n",
    "    ignore = ['company','segment','markets','market','department','american','customers','provides','offers','serves','sells','products','services','united','states','january','february',\n",
    "             'march','april','may','june','july','august','september','october','november','december','known','new']\n",
    "    company_list = company.lower().split(' ')\n",
    "    texts = [[word for word in text.lower().split()\n",
    "            if word not in STOPWORDS and word.isalnum() and not word in company_list and not word.lower() in ignore\n",
    "             and not word.isdigit() and word in nouns]  \n",
    "            ]\n",
    "    \n",
    "    if [] not in texts:\n",
    "        dictionary = corpora.Dictionary(texts) \n",
    "        corpus = [dictionary.doc2bow(text) for text in texts]\n",
    "        lda = LdaModel(corpus, id2word=dictionary, num_topics=5, passes=10)\n",
    "        from operator import itemgetter\n",
    "        i = sorted(lda.get_document_topics(corpus[0],minimum_probability=0,per_word_topics=False),key=itemgetter(1),reverse=True)[0][0]\n",
    "        # lda.print_topic(topicno=i) \n",
    "        topic_list = lda.show_topic(i)[:5]\n",
    "        key_list = list()\n",
    "        for tup in topic_list:\n",
    "            key_list.append(tup[0])\n",
    "        key_words = ', '.join(str(i) for i in key_list)\n",
    "    else:\n",
    "        key_words = None\n",
    "    return key_words\n",
    " \n",
    "    "
   ]
  },
  {
   "cell_type": "code",
   "execution_count": 3,
   "metadata": {},
   "outputs": [],
   "source": [
    "df['key_words'] = df.apply(lambda row: get_keywords(row['description'],row['name']),axis = 1)"
   ]
  },
  {
   "cell_type": "code",
   "execution_count": 4,
   "metadata": {},
   "outputs": [],
   "source": [
    "df = df[df['key_words'].notnull()]"
   ]
  },
  {
   "cell_type": "code",
   "execution_count": 5,
   "metadata": {
    "scrolled": true
   },
   "outputs": [
    {
     "name": "stdout",
     "output_type": "stream",
     "text": [
      "<class 'pandas.core.frame.DataFrame'>\n",
      "Int64Index: 5227 entries, 0 to 5228\n",
      "Data columns (total 8 columns):\n",
      "Unnamed: 0     5227 non-null int64\n",
      "ticker         5227 non-null object\n",
      "name           5227 non-null object\n",
      "website        5226 non-null object\n",
      "sector         5219 non-null object\n",
      "industry       5219 non-null object\n",
      "description    5227 non-null object\n",
      "key_words      5227 non-null object\n",
      "dtypes: int64(1), object(7)\n",
      "memory usage: 367.5+ KB\n"
     ]
    }
   ],
   "source": [
    "# there're only 2 missing value\n",
    "df.info()"
   ]
  },
  {
   "cell_type": "code",
   "execution_count": 6,
   "metadata": {},
   "outputs": [],
   "source": [
    "df.to_csv('list_with_keywords.csv')"
   ]
  },
  {
   "cell_type": "code",
   "execution_count": null,
   "metadata": {},
   "outputs": [],
   "source": []
  },
  {
   "cell_type": "code",
   "execution_count": 2,
   "metadata": {},
   "outputs": [
    {
     "name": "stdout",
     "output_type": "stream",
     "text": [
      "<class 'pandas.core.frame.DataFrame'>\n",
      "RangeIndex: 5224 entries, 0 to 5223\n",
      "Data columns (total 12 columns):\n",
      "ticker         5224 non-null object\n",
      "name           5224 non-null object\n",
      "website        5223 non-null object\n",
      "sector         5216 non-null object\n",
      "industry       5216 non-null object\n",
      "description    5224 non-null object\n",
      "key_words      5224 non-null object\n",
      "facebook       2451 non-null object\n",
      "twitter        2766 non-null object\n",
      "linkedin       2775 non-null object\n",
      "youtube        1756 non-null object\n",
      "instagram      1137 non-null object\n",
      "dtypes: object(12)\n",
      "memory usage: 489.8+ KB\n"
     ]
    }
   ],
   "source": [
    "#summarization\n",
    "import pandas as pd\n",
    "df = pd.read_csv('update3.csv')\n",
    "df.info()"
   ]
  },
  {
   "cell_type": "code",
   "execution_count": 3,
   "metadata": {},
   "outputs": [],
   "source": [
    "group_by_sector = df.groupby(['sector']).size().to_frame()\n",
    "# group_by_sector.plot(kind = 'bar',legend=False)"
   ]
  },
  {
   "cell_type": "code",
   "execution_count": 4,
   "metadata": {},
   "outputs": [
    {
     "data": {
      "text/html": [
       "<div>\n",
       "<style scoped>\n",
       "    .dataframe tbody tr th:only-of-type {\n",
       "        vertical-align: middle;\n",
       "    }\n",
       "\n",
       "    .dataframe tbody tr th {\n",
       "        vertical-align: top;\n",
       "    }\n",
       "\n",
       "    .dataframe thead th {\n",
       "        text-align: right;\n",
       "    }\n",
       "</style>\n",
       "<table border=\"1\" class=\"dataframe\">\n",
       "  <thead>\n",
       "    <tr style=\"text-align: right;\">\n",
       "      <th></th>\n",
       "      <th>0</th>\n",
       "    </tr>\n",
       "    <tr>\n",
       "      <th>sector</th>\n",
       "      <th></th>\n",
       "    </tr>\n",
       "  </thead>\n",
       "  <tbody>\n",
       "    <tr>\n",
       "      <th>Basic Materials</th>\n",
       "      <td>237</td>\n",
       "    </tr>\n",
       "    <tr>\n",
       "      <th>Communication Services</th>\n",
       "      <td>240</td>\n",
       "    </tr>\n",
       "    <tr>\n",
       "      <th>Consumer Cyclical</th>\n",
       "      <td>478</td>\n",
       "    </tr>\n",
       "    <tr>\n",
       "      <th>Consumer Defensive</th>\n",
       "      <td>197</td>\n",
       "    </tr>\n",
       "    <tr>\n",
       "      <th>Energy</th>\n",
       "      <td>318</td>\n",
       "    </tr>\n",
       "    <tr>\n",
       "      <th>Financial</th>\n",
       "      <td>2</td>\n",
       "    </tr>\n",
       "    <tr>\n",
       "      <th>Financial Services</th>\n",
       "      <td>1235</td>\n",
       "    </tr>\n",
       "    <tr>\n",
       "      <th>Healthcare</th>\n",
       "      <td>963</td>\n",
       "    </tr>\n",
       "    <tr>\n",
       "      <th>Industrial Goods</th>\n",
       "      <td>1</td>\n",
       "    </tr>\n",
       "    <tr>\n",
       "      <th>Industrials</th>\n",
       "      <td>582</td>\n",
       "    </tr>\n",
       "    <tr>\n",
       "      <th>Real Estate</th>\n",
       "      <td>265</td>\n",
       "    </tr>\n",
       "    <tr>\n",
       "      <th>Services</th>\n",
       "      <td>2</td>\n",
       "    </tr>\n",
       "    <tr>\n",
       "      <th>Technology</th>\n",
       "      <td>597</td>\n",
       "    </tr>\n",
       "    <tr>\n",
       "      <th>Utilities</th>\n",
       "      <td>99</td>\n",
       "    </tr>\n",
       "  </tbody>\n",
       "</table>\n",
       "</div>"
      ],
      "text/plain": [
       "                           0\n",
       "sector                      \n",
       "Basic Materials          237\n",
       "Communication Services   240\n",
       "Consumer Cyclical        478\n",
       "Consumer Defensive       197\n",
       "Energy                   318\n",
       "Financial                  2\n",
       "Financial Services      1235\n",
       "Healthcare               963\n",
       "Industrial Goods           1\n",
       "Industrials              582\n",
       "Real Estate              265\n",
       "Services                   2\n",
       "Technology               597\n",
       "Utilities                 99"
      ]
     },
     "execution_count": 4,
     "metadata": {},
     "output_type": "execute_result"
    }
   ],
   "source": [
    "group_by_sector"
   ]
  },
  {
   "cell_type": "code",
   "execution_count": null,
   "metadata": {},
   "outputs": [],
   "source": []
  }
 ],
 "metadata": {
  "kernelspec": {
   "display_name": "Python 3",
   "language": "python",
   "name": "python3"
  },
  "language_info": {
   "codemirror_mode": {
    "name": "ipython",
    "version": 3
   },
   "file_extension": ".py",
   "mimetype": "text/x-python",
   "name": "python",
   "nbconvert_exporter": "python",
   "pygments_lexer": "ipython3",
   "version": "3.6.10"
  }
 },
 "nbformat": 4,
 "nbformat_minor": 2
}
