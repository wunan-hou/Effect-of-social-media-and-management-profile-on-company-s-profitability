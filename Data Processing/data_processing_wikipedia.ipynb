{
 "cells": [
  {
   "cell_type": "code",
   "execution_count": null,
   "metadata": {},
   "outputs": [],
   "source": [
    "import pandas as pd\n",
    "import numpy as np\n",
    "import datetime\n",
    "import warnings\n",
    "warnings.filterwarnings(\"ignore\")"
   ]
  },
  {
   "cell_type": "markdown",
   "metadata": {},
   "source": [
    "#### Original Dataset"
   ]
  },
  {
   "cell_type": "code",
   "execution_count": null,
   "metadata": {
    "scrolled": true
   },
   "outputs": [],
   "source": [
    "df = pd.read_excel('original_dataset.xlsx')\n",
    "df.info()"
   ]
  },
  {
   "cell_type": "markdown",
   "metadata": {},
   "source": [
    "#### Data Summarization"
   ]
  },
  {
   "cell_type": "code",
   "execution_count": null,
   "metadata": {},
   "outputs": [],
   "source": [
    "# set the summary dataframe\n",
    "summary = pd.DataFrame(columns=['latest_edit_year_-_2018', 'num_edits_2017', 'edits_change_2017_2018'], \n",
    "                       index=['coverage', 'min', 'P1', 'P5', 'P10', 'Q1', 'median', \n",
    "                              'Q3', 'P90', 'P95', 'P99', 'max', 'mean', 'q-range', \n",
    "                              'skew', 'kurt', 'zero', 'positive', 'negative', 'missing'])\n",
    "summary = summary.astype('float')\n",
    "# define the summary function\n",
    "def get_summary(summary, df):\n",
    "    # coverage\n",
    "    for i in summary.columns:\n",
    "        summary[i]['coverage'] = df.describe().loc['count'][i] / len(df)\n",
    "    # skew / kurt\n",
    "    for i in df.skew(axis = 0, skipna = True).index:\n",
    "        try:\n",
    "            summary[i]['skew'] = df.skew(axis = 0, skipna = True)[i]\n",
    "        except:\n",
    "            pass\n",
    "    for i in df.kurtosis(axis = 0, skipna = True).index:\n",
    "        try:\n",
    "            summary[i]['kurt'] = df.kurtosis(axis = 0, skipna = True)[i]\n",
    "        except:\n",
    "            pass\n",
    "    # quantitle\n",
    "    for j in [0.01, 0.05, 0.10, 0.90, 0.95, 0.99]:\n",
    "        for i in df.quantile(j, numeric_only=True).index:\n",
    "            try:\n",
    "                summary[i].loc[f\"P{int(j*100)}\"] = df.quantile(j, numeric_only=True)[i]\n",
    "            except:\n",
    "                pass\n",
    "    # mean / max / min\n",
    "    for j in ['max', 'min', 'mean']:\n",
    "        for i in df.describe().loc[j].index:\n",
    "            try:\n",
    "                summary[i][j] = df.describe().loc[j][i]\n",
    "            except:\n",
    "                pass\n",
    "    # Q1\n",
    "    for i in df.describe().loc['25%'].index:\n",
    "        try:\n",
    "            summary[i]['Q1'] = df.describe().loc['25%'][i]\n",
    "        except:\n",
    "            pass\n",
    "    # median\n",
    "    for i in df.describe().loc['50%'].index:\n",
    "        try:\n",
    "            summary[i]['median'] = df.describe().loc['50%'][i]\n",
    "        except:\n",
    "            pass\n",
    "    # Q3\n",
    "    for i in df.describe().loc['75%'].index:\n",
    "        try:\n",
    "            summary[i]['Q3'] = df.describe().loc['75%'][i]\n",
    "        except:\n",
    "            pass\n",
    "    # missing\n",
    "    for i in pd.isnull(df).columns:\n",
    "        try:\n",
    "            summary[i][\"missing\"] = pd.isnull(df)[i].sum()\n",
    "        except:\n",
    "            pass\n",
    "    # 0\n",
    "    for i in df.columns:\n",
    "        try:\n",
    "            summary[i][\"zero\"] = (df[i] == 0).sum()\n",
    "        except:\n",
    "            pass\n",
    "    # +\n",
    "    for i in df.columns:\n",
    "        try:\n",
    "            summary[i][\"positive\"] = (df[i] > 0).sum()\n",
    "        except:\n",
    "            pass\n",
    "    # -\n",
    "    for i in df.columns:\n",
    "        try:\n",
    "            summary[i][\"negative\"] = (df[i] < 0).sum()\n",
    "        except:\n",
    "            pass\n",
    "    # q-range\n",
    "    summary.loc['q-range'] = summary.loc['Q3'] -summary.loc['Q1']\n",
    "    return summary\n",
    "# get the summarization of overall dataset\n",
    "summary = get_summary(summary, df)\n",
    "#summary.transpose().to_excel('summary.xlsx')\n",
    "# get the summarization of each sector\n",
    "sectors = ['Healthcare',\n",
    " 'Basic Materials',\n",
    " 'Consumer Defensive',\n",
    " 'Industrials',\n",
    " 'Financial Services',\n",
    " 'Technology',\n",
    " 'Consumer Cyclical',\n",
    " 'Real Estate',\n",
    " 'Energy',\n",
    " 'Utilities',\n",
    " 'Communication Services']\n",
    "for i in sectors:\n",
    "    df_group = df[df['Sector'] == i]\n",
    "    # responsible for wikipedia and financial parameters part\n",
    "    summary = pd.DataFrame(columns=['page_size_bytes', 'latest_edit_year_-_2018',\n",
    "                                    'avg_day_between_edits', 'avg_edits_per_year', 'num_edits_2018',\n",
    "                                    'num_edits_2017', 'edits_change_2017_2018', 'pageviews_60d',\n",
    "                                    'num_sections', 'num_redir_links', 'num_references',\n",
    "                                    'revenue_2018', 'revenue_2017', 'opincome_2018', \n",
    "                                    'opincome_2017', 'margin_2018', 'margin_2017', 'margin_change'], \n",
    "                           index=['coverage', 'min', 'P1', 'P5', 'P10', 'Q1', 'median', \n",
    "                                  'Q3', 'P90', 'P95', 'P99', 'max', 'mean', 'q-range', \n",
    "                                  'skew', 'kurt', 'zero', 'positive', 'negative', 'missing'])\n",
    "    summary = summary.astype('float')\n",
    "    summary = get_summary(summary, df_group)\n",
    "#     summary.transpose().to_excel(f\"{i}.xlsx\")"
   ]
  },
  {
   "cell_type": "markdown",
   "metadata": {},
   "source": [
    "#### Data Processing"
   ]
  },
  {
   "cell_type": "markdown",
   "metadata": {},
   "source": [
    "Margin Change"
   ]
  },
  {
   "cell_type": "code",
   "execution_count": null,
   "metadata": {},
   "outputs": [],
   "source": [
    "# convert margin change from numerical to binary, based on each sector\n",
    "for i in sectors:\n",
    "    try:\n",
    "        df1 = pd.read_excel(f\"sector_summary/{i}.xlsx\", index_col=\"Unnamed: 0\")\n",
    "        for a in df[df['Sector'] == i].index:\n",
    "            if df['margin_change'][a] >= df1['P90']['margin_change']:\n",
    "                df['margin_change'][a] = 1\n",
    "            else:\n",
    "                df['margin_change'][a] = 0\n",
    "    except:\n",
    "        pass"
   ]
  },
  {
   "cell_type": "markdown",
   "metadata": {},
   "source": [
    "Wikipedia Variables"
   ]
  },
  {
   "cell_type": "code",
   "execution_count": null,
   "metadata": {},
   "outputs": [],
   "source": [
    "# calculate the event rate for wikipedia variables, based on each sector\n",
    "wiki = df[['ticker', 'Name', 'Sector', 'page_size_bytes', 'latest_edit_year_-_2018',\n",
    "          'avg_day_between_edits', 'avg_edits_per_year', 'num_edits_2018',\n",
    "          'num_edits_2017', 'edits_change_2017_2018', 'pageviews_60d',\n",
    "          'num_sections', 'num_redir_links', 'num_references', 'margin_change_90']]\n",
    "cols = ['page_size_bytes', 'latest_edit_year_-_2018',\n",
    "       'avg_day_between_edits', 'avg_edits_per_year', 'num_edits_2018',\n",
    "       'num_edits_2017', 'edits_change_2017_2018', 'pageviews_60d',\n",
    "       'num_sections', 'num_redir_links', 'num_references']\n",
    "# because the coverage is less than 70%, convert them to categorical variables\n",
    "for s in sectors:\n",
    "    df1 = pd.read_excel(f'sector_summary/{s}.xlsx', index_col= 'Unnamed: 0')\n",
    "    for a in cols:\n",
    "        for b in wiki[wiki['Sector']==s].index:\n",
    "            if wiki[a][b] > df1['P90'][a]:\n",
    "                wiki[a][b] = \"high\"\n",
    "            elif wiki[a][b] <= df1['P90'][a] and wiki[a][b] > df1['Q1'][a]:\n",
    "                wiki[a][b] = \"medium\"\n",
    "            elif wiki[a][b] <= df1['Q1'][a]:\n",
    "                wiki[a][b] = \"low\"\n",
    "            elif pd.isnull(wiki[a][b]):\n",
    "                wiki[a][b] = \"missing\""
   ]
  },
  {
   "cell_type": "markdown",
   "metadata": {},
   "source": [
    "Event Rate"
   ]
  },
  {
   "cell_type": "code",
   "execution_count": null,
   "metadata": {},
   "outputs": [],
   "source": [
    "# Calculate the event rate of margin change for all wikipedia variables, based on each sector\n",
    "for a in cols:\n",
    "    grouped = pd.DataFrame(wiki.groupby([a, 'Sector', 'margin_change_90']).size().unstack())\n",
    "    grouped = grouped.replace(np.nan, 0)\n",
    "    grouped['sum'] = grouped[0.0] + grouped[1.0]\n",
    "    grouped[a] = grouped[1.0]/grouped['sum']\n",
    "    grouped.to_excel(f\"{a}.xlsx\")"
   ]
  },
  {
   "cell_type": "markdown",
   "metadata": {},
   "source": [
    "WOE Transformation"
   ]
  },
  {
   "cell_type": "code",
   "execution_count": null,
   "metadata": {},
   "outputs": [],
   "source": [
    "# gather the event rate of each sector together and read it\n",
    "event_rate = pd.read_excel('event_rate_90.xlsx')\n",
    "# replace the categorical variables with WOE value for modeling process\n",
    "for c in cols:\n",
    "    for s in sectors:\n",
    "        for row in wiki[wiki['Sector']==s].index:\n",
    "            try:\n",
    "                if wiki[c][row] == 'missing':\n",
    "                    m = event_rate[(event_rate['Categories']=='missing')&(event_rate['Sector']==s)][c]\n",
    "                    wiki[c][row] = math.log((1-m)/m)\n",
    "                elif wiki[c][row] == 'high':\n",
    "                    h = event_rate[(event_rate['Categories']=='high')&(event_rate['Sector']==s)][c]\n",
    "                    wiki[c][row] = math.log((1-h)/h)\n",
    "                elif wiki[c][row] == 'low':\n",
    "                    l = event_rate[(event_rate['Categories']=='low')&(event_rate['Sector']==s)][c]\n",
    "                    wiki[c][row] = math.log((1-l)/l)\n",
    "                elif wiki[c][row] == 'medium':\n",
    "                    d = event_rate[(event_rate['Categories']=='medium')&(event_rate['Sector']==s)][c]\n",
    "                    wiki[c][row] = math.log((1-d)/d)\n",
    "            except:\n",
    "                continue\n",
    "# replace the null and infinite value\n",
    "for c in cols:\n",
    "    for row in wiki.index:\n",
    "        try:\n",
    "            if math.isinf(wiki[c][row]) or math.isnan(wiki[c][row]):\n",
    "                wiki[c][row] = 0\n",
    "        except:\n",
    "            continue\n",
    "# wiki.to_excel('wiki_final_data.xlsx')"
   ]
  }
 ],
 "metadata": {
  "kernelspec": {
   "display_name": "Python 3",
   "language": "python",
   "name": "python3"
  },
  "language_info": {
   "codemirror_mode": {
    "name": "ipython",
    "version": 3
   },
   "file_extension": ".py",
   "mimetype": "text/x-python",
   "name": "python",
   "nbconvert_exporter": "python",
   "pygments_lexer": "ipython3",
   "version": "3.7.3"
  }
 },
 "nbformat": 4,
 "nbformat_minor": 4
}
